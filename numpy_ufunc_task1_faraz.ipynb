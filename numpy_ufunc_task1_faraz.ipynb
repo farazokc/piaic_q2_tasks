{
 "cells": [
  {
   "cell_type": "markdown",
   "id": "17199e3c",
   "metadata": {},
   "source": [
    "# Numpy ufunc functions\n",
    "\n",
    "Numpy ufunc functions are built-in numpy functions that perform operations on ndarrays element-by-element.\n",
    "\n",
    "It supports several standard features such as array broadcasting and type casting. It can also be described as a wrapper class for functions taking inputs and producing outputs of specific number."
   ]
  },
  {
   "cell_type": "code",
   "execution_count": 35,
   "id": "752d99f0",
   "metadata": {},
   "outputs": [],
   "source": [
    "import numpy as np"
   ]
  },
  {
   "cell_type": "markdown",
   "id": "0b8e7f3c",
   "metadata": {},
   "source": [
    "## Arithmetic"
   ]
  },
  {
   "cell_type": "code",
   "execution_count": 6,
   "id": "5f66b914",
   "metadata": {},
   "outputs": [
    {
     "data": {
      "text/plain": [
       "array([[ 3,  4,  5,  6,  7],\n",
       "       [ 8,  9, 10, 11, 12],\n",
       "       [13, 14, 15, 16, 17],\n",
       "       [18, 19, 20, 21, 22],\n",
       "       [23, 24, 25, 26, 27]])"
      ]
     },
     "execution_count": 6,
     "metadata": {},
     "output_type": "execute_result"
    }
   ],
   "source": [
    "# Addition\n",
    "np_a1 = np.arange(5*5).reshape(5,5)\n",
    "np_a1 + 3"
   ]
  },
  {
   "cell_type": "code",
   "execution_count": 10,
   "id": "55556174",
   "metadata": {},
   "outputs": [
    {
     "data": {
      "text/plain": [
       "array([[-4, -3, -2, -1,  0,  1],\n",
       "       [ 2,  3,  4,  5,  6,  7],\n",
       "       [ 8,  9, 10, 11, 12, 13],\n",
       "       [14, 15, 16, 17, 18, 19],\n",
       "       [20, 21, 22, 23, 24, 25],\n",
       "       [26, 27, 28, 29, 30, 31]])"
      ]
     },
     "execution_count": 10,
     "metadata": {},
     "output_type": "execute_result"
    }
   ],
   "source": [
    "# Subtraction\n",
    "np_a1 = np.arange(6*6).reshape(6,6)\n",
    "np_a1 - 4"
   ]
  },
  {
   "cell_type": "code",
   "execution_count": 25,
   "id": "ec979e76",
   "metadata": {},
   "outputs": [
    {
     "data": {
      "text/plain": [
       "array([0, 2, 4, 6])"
      ]
     },
     "execution_count": 25,
     "metadata": {},
     "output_type": "execute_result"
    }
   ],
   "source": [
    "# Multiplication\n",
    "np_a1 = np.arange(2*2).reshape(-1)\n",
    "np_a1*2"
   ]
  },
  {
   "cell_type": "code",
   "execution_count": 26,
   "id": "cc3db902",
   "metadata": {},
   "outputs": [
    {
     "data": {
      "text/plain": [
       "array([0. , 0.5, 1. , 1.5, 2. , 2.5, 3. , 3.5, 4. ])"
      ]
     },
     "execution_count": 26,
     "metadata": {},
     "output_type": "execute_result"
    }
   ],
   "source": [
    "# Division\n",
    "np_a1 = np.arange(3*3).reshape(-1)\n",
    "np_a1/2"
   ]
  },
  {
   "cell_type": "code",
   "execution_count": 27,
   "id": "13baa44d",
   "metadata": {},
   "outputs": [
    {
     "data": {
      "text/plain": [
       "array([  0,   1,   8,  27,  64, 125, 216, 343, 512], dtype=int32)"
      ]
     },
     "execution_count": 27,
     "metadata": {},
     "output_type": "execute_result"
    }
   ],
   "source": [
    "# Power\n",
    "np_a1 = np.arange(3*3).reshape(9)\n",
    "np_a1**3"
   ]
  },
  {
   "cell_type": "code",
   "execution_count": 34,
   "id": "649881c6",
   "metadata": {},
   "outputs": [
    {
     "data": {
      "text/plain": [
       "array([ 0,  0,  0,  0,  0,  1,  1,  1,  1,  1,  2,  2,  2,  2,  2,  3,  3,\n",
       "        3,  3,  3,  4,  4,  4,  4,  4,  5,  5,  5,  5,  5,  6,  6,  6,  6,\n",
       "        6,  7,  7,  7,  7,  7,  8,  8,  8,  8,  8,  9,  9,  9,  9,  9, 10,\n",
       "       10, 10, 10, 10, 11, 11, 11, 11, 11, 12, 12, 12, 12, 12, 13, 13, 13,\n",
       "       13, 13, 14, 14, 14, 14, 14, 15, 15, 15, 15, 15, 16, 16, 16, 16, 16,\n",
       "       17, 17, 17, 17, 17, 18, 18, 18, 18, 18, 19, 19, 19, 19, 19],\n",
       "      dtype=int32)"
      ]
     },
     "execution_count": 34,
     "metadata": {},
     "output_type": "execute_result"
    }
   ],
   "source": [
    "# Floor Division\n",
    "np_a1 = np.arange(10*10).reshape(10*10)\n",
    "np_a1//5"
   ]
  },
  {
   "cell_type": "markdown",
   "id": "b0ee4b29",
   "metadata": {},
   "source": [
    "## Trignometric"
   ]
  },
  {
   "cell_type": "code",
   "execution_count": 54,
   "id": "be32aff8",
   "metadata": {},
   "outputs": [],
   "source": [
    "angles = np.arange(0,361,30)"
   ]
  },
  {
   "cell_type": "code",
   "execution_count": 55,
   "id": "216f3817",
   "metadata": {},
   "outputs": [
    {
     "data": {
      "text/plain": [
       "array([0.        , 0.52359878, 1.04719755, 1.57079633, 2.0943951 ,\n",
       "       2.61799388, 3.14159265, 3.66519143, 4.1887902 , 4.71238898,\n",
       "       5.23598776, 5.75958653, 6.28318531])"
      ]
     },
     "execution_count": 55,
     "metadata": {},
     "output_type": "execute_result"
    }
   ],
   "source": [
    "radians = np.deg2rad(angles)\n",
    "radians"
   ]
  },
  {
   "cell_type": "code",
   "execution_count": 41,
   "id": "a074d157",
   "metadata": {},
   "outputs": [
    {
     "data": {
      "text/plain": [
       "array([ 0.00000000e+00,  5.00000000e-01,  8.66025404e-01,  1.00000000e+00,\n",
       "        8.66025404e-01,  5.00000000e-01,  1.22464680e-16, -5.00000000e-01,\n",
       "       -8.66025404e-01, -1.00000000e+00, -8.66025404e-01, -5.00000000e-01,\n",
       "       -2.44929360e-16])"
      ]
     },
     "execution_count": 41,
     "metadata": {},
     "output_type": "execute_result"
    }
   ],
   "source": [
    "np.sin(radians)"
   ]
  },
  {
   "cell_type": "code",
   "execution_count": 42,
   "id": "ca6aeaf5",
   "metadata": {},
   "outputs": [
    {
     "data": {
      "text/plain": [
       "array([ 1.00000000e+00,  8.66025404e-01,  5.00000000e-01,  6.12323400e-17,\n",
       "       -5.00000000e-01, -8.66025404e-01, -1.00000000e+00, -8.66025404e-01,\n",
       "       -5.00000000e-01, -1.83697020e-16,  5.00000000e-01,  8.66025404e-01,\n",
       "        1.00000000e+00])"
      ]
     },
     "execution_count": 42,
     "metadata": {},
     "output_type": "execute_result"
    }
   ],
   "source": [
    "np.cos(radians)"
   ]
  },
  {
   "cell_type": "code",
   "execution_count": 43,
   "id": "1d831b52",
   "metadata": {},
   "outputs": [
    {
     "data": {
      "text/plain": [
       "array([ 0.00000000e+00,  5.77350269e-01,  1.73205081e+00,  1.63312394e+16,\n",
       "       -1.73205081e+00, -5.77350269e-01, -1.22464680e-16,  5.77350269e-01,\n",
       "        1.73205081e+00,  5.44374645e+15, -1.73205081e+00, -5.77350269e-01,\n",
       "       -2.44929360e-16])"
      ]
     },
     "execution_count": 43,
     "metadata": {},
     "output_type": "execute_result"
    }
   ],
   "source": [
    "np.tan(radians)"
   ]
  },
  {
   "cell_type": "code",
   "execution_count": 44,
   "id": "37cc1e7b",
   "metadata": {},
   "outputs": [
    {
     "data": {
      "text/plain": [
       "array([  0.        ,   0.54785347,   1.24936705,   2.3012989 ,\n",
       "         3.99869134,   6.8176233 ,  11.54873936,  19.51900705,\n",
       "        32.96390029,  55.6543976 ,  93.95465347, 158.60699506,\n",
       "       267.74489404])"
      ]
     },
     "execution_count": 44,
     "metadata": {},
     "output_type": "execute_result"
    }
   ],
   "source": [
    "np.sinh(radians)"
   ]
  },
  {
   "cell_type": "code",
   "execution_count": 45,
   "id": "02f4d847",
   "metadata": {},
   "outputs": [
    {
     "data": {
      "text/plain": [
       "array([  1.        ,   1.14023832,   1.60028686,   2.50917848,\n",
       "         4.12183605,   6.89057236,  11.59195328,  19.54460632,\n",
       "        32.97906491,  55.66338089,  93.95997503, 158.61014747,\n",
       "       267.74676148])"
      ]
     },
     "execution_count": 45,
     "metadata": {},
     "output_type": "execute_result"
    }
   ],
   "source": [
    "np.cosh(radians)"
   ]
  },
  {
   "cell_type": "code",
   "execution_count": 46,
   "id": "7d1a118c",
   "metadata": {},
   "outputs": [
    {
     "data": {
      "text/plain": [
       "array([0.        , 0.48047278, 0.78071444, 0.91715234, 0.97012382,\n",
       "       0.98941321, 0.99627208, 0.99869021, 0.99954017, 0.99983861,\n",
       "       0.99994336, 0.99998012, 0.99999303])"
      ]
     },
     "execution_count": 46,
     "metadata": {},
     "output_type": "execute_result"
    }
   ],
   "source": [
    "np.tanh(radians)"
   ]
  },
  {
   "cell_type": "code",
   "execution_count": 47,
   "id": "f838d431",
   "metadata": {},
   "outputs": [
    {
     "name": "stderr",
     "output_type": "stream",
     "text": [
      "C:\\Users\\Faraz\\AppData\\Local\\Temp\\ipykernel_4604\\4042167314.py:1: RuntimeWarning: invalid value encountered in arcsin\n",
      "  np.arcsin(radians)\n"
     ]
    },
    {
     "data": {
      "text/plain": [
       "array([0.        , 0.55106958,        nan,        nan,        nan,\n",
       "              nan,        nan,        nan,        nan,        nan,\n",
       "              nan,        nan,        nan])"
      ]
     },
     "execution_count": 47,
     "metadata": {},
     "output_type": "execute_result"
    }
   ],
   "source": [
    "np.arcsin(radians)"
   ]
  },
  {
   "cell_type": "code",
   "execution_count": 48,
   "id": "54e29dbb",
   "metadata": {},
   "outputs": [
    {
     "name": "stderr",
     "output_type": "stream",
     "text": [
      "C:\\Users\\Faraz\\AppData\\Local\\Temp\\ipykernel_4604\\194661201.py:1: RuntimeWarning: invalid value encountered in arccos\n",
      "  np.arccos(radians)\n"
     ]
    },
    {
     "data": {
      "text/plain": [
       "array([1.57079633, 1.01972674,        nan,        nan,        nan,\n",
       "              nan,        nan,        nan,        nan,        nan,\n",
       "              nan,        nan,        nan])"
      ]
     },
     "execution_count": 48,
     "metadata": {},
     "output_type": "execute_result"
    }
   ],
   "source": [
    "np.arccos(radians)"
   ]
  },
  {
   "cell_type": "code",
   "execution_count": 49,
   "id": "12749c05",
   "metadata": {},
   "outputs": [
    {
     "data": {
      "text/plain": [
       "array([0.        , 0.48234791, 0.80844879, 1.00388482, 1.12533883,\n",
       "       1.20592739, 1.26262726, 1.30444211, 1.33645024, 1.36169168,\n",
       "       1.38208297, 1.3988865 , 1.41296514])"
      ]
     },
     "execution_count": 49,
     "metadata": {},
     "output_type": "execute_result"
    }
   ],
   "source": [
    "np.arctan(radians)"
   ]
  },
  {
   "cell_type": "code",
   "execution_count": 50,
   "id": "59b25bdc",
   "metadata": {},
   "outputs": [
    {
     "data": {
      "text/plain": [
       "array([0.        , 0.50221899, 0.91435666, 1.23340312, 1.48507048,\n",
       "       1.69018317, 1.86229574, 2.01013875, 2.13951221, 2.25441459,\n",
       "       2.35769933, 2.45146536, 2.5372975 ])"
      ]
     },
     "execution_count": 50,
     "metadata": {},
     "output_type": "execute_result"
    }
   ],
   "source": [
    "np.arcsinh(radians)"
   ]
  },
  {
   "cell_type": "code",
   "execution_count": 51,
   "id": "f2640023",
   "metadata": {},
   "outputs": [
    {
     "name": "stderr",
     "output_type": "stream",
     "text": [
      "C:\\Users\\Faraz\\AppData\\Local\\Temp\\ipykernel_4604\\3618060095.py:1: RuntimeWarning: invalid value encountered in arccosh\n",
      "  np.arccosh(radians)\n"
     ]
    },
    {
     "data": {
      "text/plain": [
       "array([       nan,        nan, 0.30604211, 1.02322748, 1.36981867,\n",
       "       1.61690509, 1.81152627, 1.97287564, 2.11099631, 2.23188925,\n",
       "       2.33945646, 2.43638993, 2.52463066])"
      ]
     },
     "execution_count": 51,
     "metadata": {},
     "output_type": "execute_result"
    }
   ],
   "source": [
    "np.arccosh(radians)"
   ]
  },
  {
   "cell_type": "code",
   "execution_count": 52,
   "id": "f6f68344",
   "metadata": {},
   "outputs": [
    {
     "name": "stderr",
     "output_type": "stream",
     "text": [
      "C:\\Users\\Faraz\\AppData\\Local\\Temp\\ipykernel_4604\\899475409.py:1: RuntimeWarning: invalid value encountered in arctanh\n",
      "  np.arctanh(radians)\n"
     ]
    },
    {
     "data": {
      "text/plain": [
       "array([0.        , 0.58128501,        nan,        nan,        nan,\n",
       "              nan,        nan,        nan,        nan,        nan,\n",
       "              nan,        nan,        nan])"
      ]
     },
     "execution_count": 52,
     "metadata": {},
     "output_type": "execute_result"
    }
   ],
   "source": [
    "np.arctanh(radians)"
   ]
  },
  {
   "cell_type": "code",
   "execution_count": 53,
   "id": "4625f68a",
   "metadata": {},
   "outputs": [
    {
     "data": {
      "text/plain": [
       "array([  0.,  30.,  60.,  90., 120., 150., 180., 210., 240., 270., 300.,\n",
       "       330., 360.])"
      ]
     },
     "execution_count": 53,
     "metadata": {},
     "output_type": "execute_result"
    }
   ],
   "source": [
    "np.rad2deg(radians)"
   ]
  },
  {
   "cell_type": "markdown",
   "id": "aa91a754",
   "metadata": {},
   "source": [
    "## Statistics"
   ]
  },
  {
   "cell_type": "code",
   "execution_count": 57,
   "id": "b5102aa2",
   "metadata": {},
   "outputs": [],
   "source": [
    "randoms = np.arange(np.random.randint(10,20))"
   ]
  },
  {
   "cell_type": "code",
   "execution_count": 58,
   "id": "32dd51b6",
   "metadata": {},
   "outputs": [
    {
     "data": {
      "text/plain": [
       "array([ 0,  1,  2,  3,  4,  5,  6,  7,  8,  9, 10, 11, 12, 13])"
      ]
     },
     "execution_count": 58,
     "metadata": {},
     "output_type": "execute_result"
    }
   ],
   "source": [
    "randoms"
   ]
  },
  {
   "cell_type": "code",
   "execution_count": 60,
   "id": "d2222549",
   "metadata": {},
   "outputs": [
    {
     "data": {
      "text/plain": [
       "0"
      ]
     },
     "execution_count": 60,
     "metadata": {},
     "output_type": "execute_result"
    }
   ],
   "source": [
    "# Min value of array\n",
    "np.amin(randoms)"
   ]
  },
  {
   "cell_type": "code",
   "execution_count": 63,
   "id": "ebdcfb2e",
   "metadata": {},
   "outputs": [
    {
     "data": {
      "text/plain": [
       "13"
      ]
     },
     "execution_count": 63,
     "metadata": {},
     "output_type": "execute_result"
    }
   ],
   "source": [
    "# Max value of array\n",
    "np.amax(randoms)"
   ]
  },
  {
   "cell_type": "code",
   "execution_count": 64,
   "id": "f2229089",
   "metadata": {},
   "outputs": [
    {
     "data": {
      "text/plain": [
       "13"
      ]
     },
     "execution_count": 64,
     "metadata": {},
     "output_type": "execute_result"
    }
   ],
   "source": [
    "# Range of values (max - min)\n",
    "np.ptp(randoms)"
   ]
  },
  {
   "cell_type": "code",
   "execution_count": 65,
   "id": "4418763b",
   "metadata": {},
   "outputs": [
    {
     "data": {
      "text/plain": [
       "6.5"
      ]
     },
     "execution_count": 65,
     "metadata": {},
     "output_type": "execute_result"
    }
   ],
   "source": [
    "np.mean(randoms)"
   ]
  },
  {
   "cell_type": "code",
   "execution_count": 66,
   "id": "02d2ba44",
   "metadata": {},
   "outputs": [
    {
     "data": {
      "text/plain": [
       "6.5"
      ]
     },
     "execution_count": 66,
     "metadata": {},
     "output_type": "execute_result"
    }
   ],
   "source": [
    "np.median(randoms)"
   ]
  },
  {
   "cell_type": "code",
   "execution_count": 67,
   "id": "76d53676",
   "metadata": {},
   "outputs": [
    {
     "data": {
      "text/plain": [
       "4.031128874149275"
      ]
     },
     "execution_count": 67,
     "metadata": {},
     "output_type": "execute_result"
    }
   ],
   "source": [
    "# Standard deviation of array\n",
    "np.std(randoms)"
   ]
  },
  {
   "cell_type": "code",
   "execution_count": 68,
   "id": "3d471397",
   "metadata": {},
   "outputs": [
    {
     "data": {
      "text/plain": [
       "16.25"
      ]
     },
     "execution_count": 68,
     "metadata": {},
     "output_type": "execute_result"
    }
   ],
   "source": [
    "# Variance of array\n",
    "np.var(randoms)"
   ]
  }
 ],
 "metadata": {
  "kernelspec": {
   "display_name": "Python 3 (ipykernel)",
   "language": "python",
   "name": "python3"
  },
  "language_info": {
   "codemirror_mode": {
    "name": "ipython",
    "version": 3
   },
   "file_extension": ".py",
   "mimetype": "text/x-python",
   "name": "python",
   "nbconvert_exporter": "python",
   "pygments_lexer": "ipython3",
   "version": "3.9.13"
  }
 },
 "nbformat": 4,
 "nbformat_minor": 5
}
